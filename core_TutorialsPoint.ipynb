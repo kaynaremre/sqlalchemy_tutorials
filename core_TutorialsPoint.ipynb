{
 "cells": [
  {
   "cell_type": "markdown",
   "metadata": {},
   "source": [
    "SQL Alchemy Tutorial by Tutorials Point\n",
    "\n",
    "DATE : 27.10.2022\n",
    "\n",
    "https://www.tutorialspoint.com/sqlalchemy/index.htm"
   ]
  },
  {
   "cell_type": "code",
   "execution_count": 1,
   "metadata": {},
   "outputs": [],
   "source": [
    "# Import necessary Libraries\n",
    "\n",
    "from sqlalchemy import Table, Column, Integer, String, MetaData, create_engine"
   ]
  },
  {
   "cell_type": "code",
   "execution_count": 2,
   "metadata": {},
   "outputs": [],
   "source": [
    "# MetaData Object is a collection of Table objects and their associated schema constructs.\n",
    "# It holds a collection of Table objects as well as an optional binding to an Engine or Connection.\n",
    "meta = MetaData()"
   ]
  },
  {
   "cell_type": "code",
   "execution_count": 3,
   "metadata": {},
   "outputs": [],
   "source": [
    "# Create an engine for database\n",
    "engine = create_engine(\"sqlite:///college.db\", echo=False)\n",
    "\n",
    "#Echo = Console Output"
   ]
  },
  {
   "cell_type": "code",
   "execution_count": 4,
   "metadata": {},
   "outputs": [],
   "source": [
    "# Create a Table in the database as \"Students\"\n",
    "\n",
    "students = Table(\n",
    "    'students', meta,\n",
    "    Column('id', Integer, primary_key=True),\n",
    "    Column('name', String),\n",
    "    Column('lastname', String),\n",
    ")\n",
    "\n",
    "meta.create_all(engine)"
   ]
  },
  {
   "cell_type": "code",
   "execution_count": 5,
   "metadata": {},
   "outputs": [],
   "source": [
    "# Insert objects\n",
    "\n",
    "ins = students.insert()\n",
    "ins = students.insert().values(name='Emre', lastname='Kaynar')\n",
    "conn = engine.connect()"
   ]
  },
  {
   "cell_type": "code",
   "execution_count": 6,
   "metadata": {},
   "outputs": [],
   "source": [
    "# Execute the insertion\n",
    "result = conn.execute(ins)\n"
   ]
  },
  {
   "cell_type": "code",
   "execution_count": 7,
   "metadata": {},
   "outputs": [
    {
     "data": {
      "text/plain": [
       "<sqlalchemy.engine.cursor.LegacyCursorResult at 0x2575e2ccbe0>"
      ]
     },
     "execution_count": 7,
     "metadata": {},
     "output_type": "execute_result"
    }
   ],
   "source": [
    "# Direct insertions with dictionary\n",
    "conn.execute(students.insert(), [\n",
    "    {'name': 'Emre', 'lastname': 'Acir'},\n",
    "    {'name': 'Eren', 'lastname': 'Mungan'},\n",
    "    {'name': 'Ziya', 'lastname': 'Ercan'},\n",
    "])"
   ]
  },
  {
   "cell_type": "code",
   "execution_count": 8,
   "metadata": {},
   "outputs": [
    {
     "name": "stdout",
     "output_type": "stream",
     "text": [
      "(1, 'Emre', 'Kaynar')\n",
      "(2, 'Emre', 'Acir')\n",
      "(3, 'Eren', 'Mungan')\n",
      "(4, 'Ziya', 'Ercan')\n",
      "(5, 'Emre', 'Kaynar')\n",
      "(6, 'Emre', 'Acir')\n",
      "(7, 'Eren', 'Mungan')\n",
      "(8, 'Ziya', 'Ercan')\n"
     ]
    }
   ],
   "source": [
    "#Select All students\n",
    "s = students.select()\n",
    "\n",
    "#Connect to engine\n",
    "conn = engine.connect()\n",
    "\n",
    "#Excute Query\n",
    "result = conn.execute(s)\n",
    "\n",
    "for row in result:\n",
    "   print (row)"
   ]
  },
  {
   "cell_type": "code",
   "execution_count": 9,
   "metadata": {},
   "outputs": [
    {
     "name": "stdout",
     "output_type": "stream",
     "text": [
      "(3, 'Eren', 'Mungan')\n",
      "(4, 'Ziya', 'Ercan')\n",
      "(5, 'Emre', 'Kaynar')\n",
      "(6, 'Emre', 'Acir')\n",
      "(7, 'Eren', 'Mungan')\n",
      "(8, 'Ziya', 'Ercan')\n"
     ]
    }
   ],
   "source": [
    "# Select students 'where' id > 2\n",
    "s = students.select().where(students.c.id > 2)\n",
    "result = conn.execute(s)\n",
    "\n",
    "for row in result:\n",
    "    print(row)\n"
   ]
  },
  {
   "cell_type": "code",
   "execution_count": 10,
   "metadata": {},
   "outputs": [
    {
     "data": {
      "text/plain": [
       "[('Emre', 'Kaynar'),\n",
       " ('Emre', 'Acir'),\n",
       " ('Eren', 'Mungan'),\n",
       " ('Emre', 'Kaynar'),\n",
       " ('Emre', 'Acir'),\n",
       " ('Eren', 'Mungan')]"
      ]
     },
     "execution_count": 10,
     "metadata": {},
     "output_type": "execute_result"
    }
   ],
   "source": [
    "# Import necessary library for textual SQL query\n",
    "from sqlalchemy.sql import text\n",
    "\n",
    "# Query\n",
    "s = text(\"select students.name, students.lastname from students where students.name between :x and :y\")\n",
    "\n",
    "# Execute Query\n",
    "conn.execute(s, x='A', y='L').fetchall()\n"
   ]
  },
  {
   "cell_type": "code",
   "execution_count": null,
   "metadata": {},
   "outputs": [],
   "source": []
  },
  {
   "cell_type": "code",
   "execution_count": null,
   "metadata": {},
   "outputs": [],
   "source": []
  },
  {
   "cell_type": "code",
   "execution_count": null,
   "metadata": {},
   "outputs": [],
   "source": []
  }
 ],
 "metadata": {
  "interpreter": {
   "hash": "b89b5cfaba6639976dc87ff2fec6d58faec662063367e2c229c520fe71072417"
  },
  "kernelspec": {
   "display_name": "Python 3.10.0 64-bit",
   "language": "python",
   "name": "python3"
  },
  "language_info": {
   "codemirror_mode": {
    "name": "ipython",
    "version": 3
   },
   "file_extension": ".py",
   "mimetype": "text/x-python",
   "name": "python",
   "nbconvert_exporter": "python",
   "pygments_lexer": "ipython3",
   "version": "3.10.0"
  },
  "orig_nbformat": 4
 },
 "nbformat": 4,
 "nbformat_minor": 2
}
