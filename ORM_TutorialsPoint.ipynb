{
 "cells": [
  {
   "cell_type": "markdown",
   "metadata": {},
   "source": [
    "Object Relational Mapper API of SQLAlchemy Tutorial by Tutorials Point\n",
    "\n",
    "DATE : 27.10.2022\n",
    "\n",
    "https://www.tutorialspoint.com/sqlalchemy/index.htm"
   ]
  },
  {
   "cell_type": "markdown",
   "metadata": {},
   "source": [
    "The main objective of the Object Relational Mapper API of SQLAlchemy is to facilitate associating user-defined Python classes with database tables, and objects of those classes with rows in their corresponding tables. Changes in states of objects and rows are synchronously matched with each other. SQLAlchemy enables expressing database queries in terms of user defined classes and their defined relationships.\n"
   ]
  },
  {
   "cell_type": "code",
   "execution_count": 7,
   "metadata": {},
   "outputs": [],
   "source": [
    "from sqlalchemy import Table, Column, Integer, String, MetaData, create_engine\n",
    "engine = create_engine('sqlite:///sales.db', echo = False)"
   ]
  },
  {
   "cell_type": "markdown",
   "metadata": {},
   "source": [
    "A base class stores a catlog of classes and mapped tables in the Declarative system. This is called as the declarative base class. There will be usually just one instance of this base in a commonly imported module. The declarative_base() function is used to create base class. This function is defined in sqlalchemy.ext.declarative module."
   ]
  },
  {
   "cell_type": "code",
   "execution_count": 8,
   "metadata": {},
   "outputs": [],
   "source": [
    "from sqlalchemy.ext.declarative import declarative_base\n",
    "Base = declarative_base()"
   ]
  },
  {
   "cell_type": "code",
   "execution_count": 9,
   "metadata": {},
   "outputs": [],
   "source": [
    "class Customers(Base):\n",
    "   __tablename__ = 'customers'\n",
    "   \n",
    "   id = Column(Integer, primary_key = True)\n",
    "   name = Column(String)\n",
    "   address = Column(String)\n",
    "   email = Column(String)"
   ]
  },
  {
   "cell_type": "code",
   "execution_count": 10,
   "metadata": {},
   "outputs": [],
   "source": [
    "Base.metadata.create_all(engine)"
   ]
  },
  {
   "cell_type": "markdown",
   "metadata": {},
   "source": [
    "In order to interact with the database, we need to obtain its handle. A session object is the handle to database. Session class is defined using sessionmaker() – a configurable session factory method which is bound to the engine object created earlier."
   ]
  },
  {
   "cell_type": "code",
   "execution_count": 11,
   "metadata": {},
   "outputs": [],
   "source": [
    "from sqlalchemy.orm import sessionmaker\n",
    "Session = sessionmaker(bind = engine)\n",
    "\n",
    "session = Session()"
   ]
  },
  {
   "cell_type": "code",
   "execution_count": 12,
   "metadata": {},
   "outputs": [],
   "source": [
    "# Add a customer\n",
    "c1 = Customers(name = 'Emre Kaynar', address = 'Sancaktepe', email = 'ek@gmail.com')\n",
    "session.add(c1)\n",
    "\n",
    "# Commit to session\n",
    "session.commit()\n"
   ]
  },
  {
   "cell_type": "code",
   "execution_count": 13,
   "metadata": {},
   "outputs": [],
   "source": [
    "# Add multiple objects\n",
    "session.add_all([\n",
    "   Customers(name = 'Eren Mungan', address = 'Anadolu', email = 'em@gmail.com'), \n",
    "   Customers(name = 'Emre Acır', address = 'Avrupa', email = 'ea@gmail.com')]\n",
    ")\n",
    "\n",
    "session.commit()"
   ]
  },
  {
   "cell_type": "code",
   "execution_count": 14,
   "metadata": {},
   "outputs": [
    {
     "name": "stdout",
     "output_type": "stream",
     "text": [
      "Emre Kaynar Sancaktepe ek@gmail.com\n",
      "Eren Mungan Anadolu em@gmail.com\n",
      "Emre Acır Avrupa ea@gmail.com\n"
     ]
    }
   ],
   "source": [
    "# Query objects are initially generated using the query() method of the Session\n",
    "result = session.query(Customers).all()\n",
    "\n",
    "for row in result:\n",
    "   print (row.name, row.address, row.email)"
   ]
  },
  {
   "cell_type": "code",
   "execution_count": 17,
   "metadata": {},
   "outputs": [
    {
     "name": "stdout",
     "output_type": "stream",
     "text": [
      "Emre Kaynar Sancaktepe ek@gmail.com\n"
     ]
    }
   ],
   "source": [
    "x = session.query(Customers).get(1)\n",
    "\n",
    "print(x.name, x.address, x.email)"
   ]
  },
  {
   "cell_type": "code",
   "execution_count": 27,
   "metadata": {},
   "outputs": [],
   "source": [
    "x.address = \"Sancaktepe, Akpınar\""
   ]
  },
  {
   "cell_type": "code",
   "execution_count": 29,
   "metadata": {},
   "outputs": [
    {
     "name": "stdout",
     "output_type": "stream",
     "text": [
      "Name:  Emre Kaynar Address: Sancaktepe, Akpınar Email: ek@gmail.com\n"
     ]
    }
   ],
   "source": [
    "x = session.query(Customers).first()\n",
    "\n",
    "print (\"Name: \", x.name, \"Address:\", x.address, \"Email:\", x.email)\n"
   ]
  },
  {
   "cell_type": "code",
   "execution_count": 30,
   "metadata": {},
   "outputs": [
    {
     "name": "stdout",
     "output_type": "stream",
     "text": [
      "Name:  Emre Kaynar Address: Sancaktepe Email: ek@gmail.com\n"
     ]
    }
   ],
   "source": [
    "session.rollback()\n",
    "\n",
    "print (\"Name: \", x.name, \"Address:\", x.address, \"Email:\", x.email)"
   ]
  },
  {
   "cell_type": "code",
   "execution_count": 33,
   "metadata": {},
   "outputs": [],
   "source": [
    "session.query(Customers).filter(Customers.id != 2).update({Customers.name:\"Mr.\"+Customers.name}, synchronize_session = False)\n",
    "\n",
    "\n",
    "# Database file is updated after commitment\n",
    "session.commit()"
   ]
  },
  {
   "cell_type": "code",
   "execution_count": 37,
   "metadata": {},
   "outputs": [
    {
     "name": "stdout",
     "output_type": "stream",
     "text": [
      "ID: 1 Name:  Mr.Mr.Emre Kaynar Address: Sancaktepe Email: ek@gmail.com\n",
      "ID: 3 Name:  Mr.Mr.Emre Acır Address: Avrupa Email: ea@gmail.com\n"
     ]
    }
   ],
   "source": [
    "# Using LIKE operator\n",
    "\n",
    "result = session.query(Customers).filter(Customers.name.like('Mr%'))\n",
    "for row in result:\n",
    "   print (\"ID:\", row.id, \"Name: \",row.name, \"Address:\",row.address, \"Email:\",row.email)"
   ]
  },
  {
   "cell_type": "code",
   "execution_count": 39,
   "metadata": {},
   "outputs": [
    {
     "name": "stdout",
     "output_type": "stream",
     "text": [
      "ID: 1 Name:  Mr.Mr.Emre Kaynar Address: Sancaktepe Email: ek@gmail.com\n",
      "ID: 2 Name:  Eren Mungan Address: Anadolu Email: em@gmail.com\n",
      "ID: 3 Name:  Mr.Mr.Emre Acır Address: Avrupa Email: ea@gmail.com\n"
     ]
    }
   ],
   "source": [
    "# Using all()\n",
    "result = session.query(Customers).all()\n",
    "\n",
    "for row in result:\n",
    "   print (\"ID:\", row.id, \"Name: \",row.name, \"Address:\",row.address, \"Email:\",row.email)"
   ]
  },
  {
   "cell_type": "code",
   "execution_count": 40,
   "metadata": {},
   "outputs": [
    {
     "name": "stdout",
     "output_type": "stream",
     "text": [
      "ID: 1 Name:  Mr.Mr.Emre Kaynar Address: Sancaktepe Email: ek@gmail.com\n",
      "ID: 2 Name:  Eren Mungan Address: Anadolu Email: em@gmail.com\n",
      "ID: 3 Name:  Mr.Mr.Emre Acır Address: Avrupa Email: ea@gmail.com\n"
     ]
    }
   ],
   "source": [
    "from sqlalchemy import text\n",
    "\n",
    "result = session.query(Customers).from_statement(text(\"SELECT * FROM customers\")).all()\n",
    "\n",
    "for row in result:\n",
    "   print (\"ID:\", row.id, \"Name: \",row.name, \"Address:\",row.address, \"Email:\",row.email)"
   ]
  },
  {
   "cell_type": "code",
   "execution_count": 43,
   "metadata": {},
   "outputs": [],
   "source": [
    "from sqlalchemy import ForeignKey\n",
    "from sqlalchemy.orm import relationship\n",
    "\n",
    "class Invoice(Base):\n",
    "   __tablename__ = 'invoices'\n",
    "   \n",
    "   id = Column(Integer, primary_key = True)\n",
    "   custid = Column(Integer, ForeignKey('customers.id'))\n",
    "   invno = Column(Integer)\n",
    "   amount = Column(Integer)\n",
    "   customer = relationship(\"Customers\", back_populates = \"invoices\")\n",
    "\n",
    "Customers.invoices = relationship(\"Invoice\", order_by = Invoice.id, back_populates = \"customers\")\n",
    "Base.metadata.create_all(engine)"
   ]
  },
  {
   "cell_type": "code",
   "execution_count": 44,
   "metadata": {},
   "outputs": [],
   "source": [
    "c1 = Customers(name = \"Gopal Krishna\", address = \"Bank Street Hydarebad\", email = \"gk@gmail.com\")\n",
    "c1.invoices = [Invoice(invno = 10, amount = 15000), Invoice(invno = 14, amount = 3850)]\n",
    "\n",
    "session.add(c1)\n",
    "session.commit()"
   ]
  },
  {
   "cell_type": "code",
   "execution_count": null,
   "metadata": {},
   "outputs": [],
   "source": [
    "for c, i in session.query(Customers, Invoice).filter(Customers.id == Invoice.custid).all():\n",
    "   print (\"ID: {} Name: {} Invoice No: {} Amount: {}\".format(c.id,c.name, i.invno, i.amount))"
   ]
  }
 ],
 "metadata": {
  "interpreter": {
   "hash": "b89b5cfaba6639976dc87ff2fec6d58faec662063367e2c229c520fe71072417"
  },
  "kernelspec": {
   "display_name": "Python 3.10.0 64-bit",
   "language": "python",
   "name": "python3"
  },
  "language_info": {
   "codemirror_mode": {
    "name": "ipython",
    "version": 3
   },
   "file_extension": ".py",
   "mimetype": "text/x-python",
   "name": "python",
   "nbconvert_exporter": "python",
   "pygments_lexer": "ipython3",
   "version": "3.10.0"
  },
  "orig_nbformat": 4
 },
 "nbformat": 4,
 "nbformat_minor": 2
}
